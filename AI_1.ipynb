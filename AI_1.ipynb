{
  "nbformat": 4,
  "nbformat_minor": 0,
  "metadata": {
    "colab": {
      "provenance": [],
      "authorship_tag": "ABX9TyMePVYmKrcWazUWPoVggTtX",
      "include_colab_link": true
    },
    "kernelspec": {
      "name": "python3",
      "display_name": "Python 3"
    },
    "language_info": {
      "name": "python"
    }
  },
  "cells": [
    {
      "cell_type": "markdown",
      "metadata": {
        "id": "view-in-github",
        "colab_type": "text"
      },
      "source": [
        "<a href=\"https://colab.research.google.com/github/myeongmook/myeongmook.github.io/blob/master/AI_1.ipynb\" target=\"_parent\"><img src=\"https://colab.research.google.com/assets/colab-badge.svg\" alt=\"Open In Colab\"/></a>"
      ]
    },
    {
      "cell_type": "code",
      "execution_count": null,
      "metadata": {
        "id": "NvNzSk5fvckb"
      },
      "outputs": [],
      "source": []
    },
    {
      "cell_type": "markdown",
      "source": [
        "###ML 3가지 분류\n",
        "> #### Supervised Learning\n",
        ">> ##### Labeled data\n",
        ">> ##### Direct feedback\n",
        ">> ##### Predict outcome\n",
        "> ### Unsupervised Learning\n",
        ">> ##### No labels/targets\n",
        ">> ##### No feedback\n",
        ">> ##### Find hidden structure in data\n",
        "> ### Reinforcement Lerning\n",
        ">> ##### Decision process\n",
        ">> ##### Reward system\n",
        ">> ##### Learn series of actions"
      ],
      "metadata": {
        "id": "VpYmT8G7v5Nx"
      }
    },
    {
      "cell_type": "markdown",
      "source": [
        "### Supervised learning\n",
        "> #### classification\n",
        ">> ##### 이진 레이블 데이터 학습하여 decision boundary 구함\n",
        "> #### regression\n",
        ">> ##### y = ax + b 형태의 line parameter를 구함\n",
        "### Reinforcement Learning\n",
        "> ##### reward function을 최적화시키는 방향으로 학습\n",
        "> ##### 순간의 환경에서 어떠한 action을 취했을 때 예측하는 reward가 커질 것 인지.\n",
        ">> ###### action -> 변경된 state -> 새로운 environment -> 새로운 action\n",
        "> ##### ex) 체스, 바둑, game, etc..\n",
        "\n",
        "\n",
        "### Data Clustering(데이터 군집화)\n",
        "> ##### 다차원 공간에 있는 데이터 샘플들을 특징에 따라 가까운 샘플들끼리 묶어 하나의 타입(class, membership) 으로 구분하는 것\n",
        "> ##### 학습과정에서 사람이 직접 만든 라벨링을 사용하지 않음 -> 비지도학습\n",
        "\n",
        "### Dimentsionality Reduction\n",
        "> ##### 고차원(3D) 데이터를 저차원(2D) 데이터로 차원을 감소\n",
        ">> ##### 중복되는 정보의 양을 줄이고 데이터 분석에 용이\n",
        ">> ##### 비지도학습\n",
        "\n",
        "\n"
      ],
      "metadata": {
        "id": "YNUCjWL9xlGp"
      }
    }
  ]
}